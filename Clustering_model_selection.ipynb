{
 "cells": [
  {
   "cell_type": "code",
   "execution_count": 1,
   "metadata": {
    "collapsed": true
   },
   "outputs": [],
   "source": [
    "import pandas as pd"
   ]
  },
  {
   "cell_type": "code",
   "execution_count": 2,
   "metadata": {
    "collapsed": true
   },
   "outputs": [],
   "source": [
    "col = pd.read_csv('gifts_cleared_by_hands.tsv')"
   ]
  },
  {
   "cell_type": "code",
   "execution_count": 3,
   "metadata": {},
   "outputs": [],
   "source": [
    "description_columns = col.columns[col.columns.str.contains('self_gift_desc_')]"
   ]
  },
  {
   "cell_type": "markdown",
   "metadata": {},
   "source": [
    "# DBSCAN"
   ]
  },
  {
   "cell_type": "code",
   "execution_count": 4,
   "metadata": {},
   "outputs": [],
   "source": [
    "from sklearn.cluster import DBSCAN\n",
    "clustering = DBSCAN(eps=1.7, min_samples=20).fit(pd.get_dummies(col[description_columns].astype(str)))\n"
   ]
  },
  {
   "cell_type": "code",
   "execution_count": 5,
   "metadata": {},
   "outputs": [
    {
     "data": {
      "text/plain": [
       "array([-1,  0,  1,  2])"
      ]
     },
     "execution_count": 5,
     "metadata": {},
     "output_type": "execute_result"
    }
   ],
   "source": [
    "labels = pd.Series(clustering.labels_)\n",
    "labels.unique()"
   ]
  },
  {
   "cell_type": "code",
   "execution_count": 6,
   "metadata": {},
   "outputs": [
    {
     "data": {
      "text/plain": [
       "197                                      массажер\n",
       "277                                        миксер\n",
       "349                                          игра\n",
       "374                                      массажер\n",
       "379                                        чайник\n",
       "402                              кухонный комбайн\n",
       "465                                плед с принтом\n",
       "491                              банное полотенце\n",
       "544                              торцовочная пила\n",
       "576                                       триммер\n",
       "579                             электроинструмент\n",
       "598    форма для запекания из жаропрочного стекла\n",
       "603                                  банный халат\n",
       "665                           акустическая гитара\n",
       "670                            набор инструментов\n",
       "764                         выпрямитель для волос\n",
       "784                           кофеварочная машина\n",
       "786                                         чашка\n",
       "814                                       кошелек\n",
       "842                                        посуда\n",
       "942                                          плед\n",
       "Name: self_gift_name_cleared, dtype: object"
      ]
     },
     "execution_count": 6,
     "metadata": {},
     "output_type": "execute_result"
    }
   ],
   "source": [
    "col.self_gift_name_cleared[labels==2]"
   ]
  },
  {
   "cell_type": "markdown",
   "metadata": {},
   "source": [
    "Отделил телефоны и духи от всего остального"
   ]
  },
  {
   "cell_type": "markdown",
   "metadata": {},
   "source": [
    "# Affinity propagation"
   ]
  },
  {
   "cell_type": "code",
   "execution_count": 7,
   "metadata": {
    "collapsed": true
   },
   "outputs": [],
   "source": [
    "from sklearn.cluster import AffinityPropagation\n",
    "clustering = AffinityPropagation(damping=0.977).fit(pd.get_dummies(col[description_columns].astype(str)))\n"
   ]
  },
  {
   "cell_type": "code",
   "execution_count": 8,
   "metadata": {},
   "outputs": [
    {
     "data": {
      "text/plain": [
       "0     14\n",
       "1      6\n",
       "2     23\n",
       "3      4\n",
       "4     19\n",
       "5     29\n",
       "6     68\n",
       "7     22\n",
       "8      6\n",
       "9     27\n",
       "10    73\n",
       "11     8\n",
       "12     3\n",
       "13    26\n",
       "14     5\n",
       "15    61\n",
       "16    17\n",
       "17    12\n",
       "18    12\n",
       "19    22\n",
       "20    17\n",
       "21    11\n",
       "22    21\n",
       "23    24\n",
       "24    14\n",
       "25     4\n",
       "26    50\n",
       "27     6\n",
       "28    10\n",
       "29     9\n",
       "30     5\n",
       "31    25\n",
       "32    20\n",
       "33    19\n",
       "34     4\n",
       "35    10\n",
       "36    13\n",
       "37    21\n",
       "38    35\n",
       "39    32\n",
       "40    22\n",
       "41    16\n",
       "42    27\n",
       "43     5\n",
       "44    21\n",
       "45    10\n",
       "46     5\n",
       "47    23\n",
       "48     8\n",
       "49     7\n",
       "50     2\n",
       "51     3\n",
       "dtype: int64"
      ]
     },
     "execution_count": 8,
     "metadata": {},
     "output_type": "execute_result"
    }
   ],
   "source": [
    "pd.Series(clustering.labels_).groupby(clustering.labels_).size()"
   ]
  },
  {
   "cell_type": "code",
   "execution_count": 9,
   "metadata": {},
   "outputs": [
    {
     "data": {
      "text/plain": [
       "array([15, 41, 26, 32,  2, 20, 22, 38,  6, 18, 39,  0, 23,  1, 47, 10,  4,\n",
       "        3, 36, 42, 29, 11, 40, 16,  5, 45, 13, 17, 37,  7, 19, 28, 31, 33,\n",
       "       27, 46,  9, 24, 25,  8, 50, 12, 44, 21, 14, 49, 43, 48, 35, 34, 30,\n",
       "       51])"
      ]
     },
     "execution_count": 9,
     "metadata": {},
     "output_type": "execute_result"
    }
   ],
   "source": [
    "labels = pd.Series(clustering.labels_)\n",
    "labels.unique()"
   ]
  },
  {
   "cell_type": "code",
   "execution_count": 10,
   "metadata": {},
   "outputs": [
    {
     "data": {
      "text/plain": [
       "7                             гимнастическая гиря\n",
       "54                                набор \"доктора\"\n",
       "166                                   гидрокостюм\n",
       "191                           кофеварочная машина\n",
       "197                                      массажер\n",
       "200                                спальный мешок\n",
       "263                                         книга\n",
       "277                                        миксер\n",
       "290                                        удочка\n",
       "345                                        рюкзак\n",
       "349                                          игра\n",
       "374                                      массажер\n",
       "379                                        чайник\n",
       "402                              кухонный комбайн\n",
       "465                                плед с принтом\n",
       "489                    страйкбольный привод ак105\n",
       "491                              банное полотенце\n",
       "531                                        удочка\n",
       "544                              торцовочная пила\n",
       "571                              паяльная станция\n",
       "576                                       триммер\n",
       "579                             электроинструмент\n",
       "598    форма для запекания из жаропрочного стекла\n",
       "603                                  банный халат\n",
       "665                           акустическая гитара\n",
       "669                                     микроскоп\n",
       "708                                     ирригатор\n",
       "784                           кофеварочная машина\n",
       "786                                         чашка\n",
       "791                                         сумка\n",
       "842                                        посуда\n",
       "846                                     салатницы\n",
       "923                               Тапочки-сапожки\n",
       "935                         альбом с фотографиями\n",
       "942                                          плед\n",
       "Name: self_gift_name_cleared, dtype: object"
      ]
     },
     "execution_count": 10,
     "metadata": {},
     "output_type": "execute_result"
    }
   ],
   "source": [
    "col.self_gift_name_cleared[labels==labels.unique()[7]]"
   ]
  },
  {
   "cell_type": "markdown",
   "metadata": {},
   "source": [
    "# AgglomerativeClustering"
   ]
  },
  {
   "cell_type": "code",
   "execution_count": 11,
   "metadata": {
    "collapsed": true
   },
   "outputs": [],
   "source": [
    "from sklearn.cluster import AgglomerativeClustering\n",
    "clustering = AgglomerativeClustering(n_clusters=10).fit(pd.get_dummies(col[description_columns].astype(str)))\n"
   ]
  },
  {
   "cell_type": "code",
   "execution_count": 12,
   "metadata": {},
   "outputs": [
    {
     "data": {
      "text/plain": [
       "0    101\n",
       "1    193\n",
       "2    115\n",
       "3     90\n",
       "4     76\n",
       "5     96\n",
       "6     84\n",
       "7     85\n",
       "8     58\n",
       "9     58\n",
       "dtype: int64"
      ]
     },
     "execution_count": 12,
     "metadata": {},
     "output_type": "execute_result"
    }
   ],
   "source": [
    "pd.Series(clustering.labels_).groupby(clustering.labels_).size()"
   ]
  },
  {
   "cell_type": "code",
   "execution_count": 13,
   "metadata": {},
   "outputs": [
    {
     "data": {
      "text/plain": [
       "array([9, 2, 1, 6, 0, 8, 5, 7, 4, 3])"
      ]
     },
     "execution_count": 13,
     "metadata": {},
     "output_type": "execute_result"
    }
   ],
   "source": [
    "labels = pd.Series(clustering.labels_)\n",
    "labels.unique()"
   ]
  },
  {
   "cell_type": "code",
   "execution_count": 14,
   "metadata": {},
   "outputs": [
    {
     "data": {
      "text/plain": [
       "12                                             мясорубка\n",
       "13                                         gps навигатор\n",
       "14                                           зимние шины\n",
       "19                                             кофемолка\n",
       "23                                                  плед\n",
       "27                                              мотоблок\n",
       "36                           набор ключей для автомобиля\n",
       "40                                                 ручка\n",
       "44                                               картина\n",
       "55                                               телефон\n",
       "58                               проигрыватель пластинок\n",
       "61                                   набор для рисования\n",
       "86     персональное видео поздравление от известного ...\n",
       "102                                     кухонный комбайн\n",
       "121                                         набор посуды\n",
       "125                                                книга\n",
       "137                                             эпилятор\n",
       "144                                           органайзер\n",
       "152                                            мясорубка\n",
       "162                              абонемент в фитнес клуб\n",
       "175                                               удочка\n",
       "186                                               деньги\n",
       "192                                               миксер\n",
       "197                                             массажер\n",
       "203                           раритетный дорогой шоколад\n",
       "216                                    Электронная книга\n",
       "221                                             одеколон\n",
       "223                                        фен для волос\n",
       "229                                            powerbank\n",
       "231                                                 духи\n",
       "                             ...                        \n",
       "677                                              блендер\n",
       "690                                        электробритва\n",
       "705                                                 духи\n",
       "708                                            ирригатор\n",
       "720                                       рамка цифровая\n",
       "723                                                 духи\n",
       "736                                               собака\n",
       "765                                              копилка\n",
       "774                                            мясорубка\n",
       "791                                                сумка\n",
       "799                                       мягкая игрушка\n",
       "817                                       электрорубанок\n",
       "824                                              степпер\n",
       "831                                     паяльная станция\n",
       "862                                     вязанная игрушка\n",
       "877                                                 кофе\n",
       "892                                              пылесос\n",
       "895                                        соковыжималка\n",
       "901                                   набор инструментов\n",
       "904                                        фаллоимитатор\n",
       "905                                            статуэтка\n",
       "916                                          термокружка\n",
       "922                                       билеты на море\n",
       "926                                               деньги\n",
       "930                                            украшение\n",
       "942                                                 плед\n",
       "948                                        гель для душа\n",
       "949                                      пена для бритья\n",
       "950                                    гель после бритья\n",
       "951                                     набор для мужчин\n",
       "Name: self_gift_name_cleared, Length: 96, dtype: object"
      ]
     },
     "execution_count": 14,
     "metadata": {},
     "output_type": "execute_result"
    }
   ],
   "source": [
    "col.self_gift_name_cleared[labels==labels.unique()[6]]"
   ]
  },
  {
   "cell_type": "markdown",
   "metadata": {},
   "source": [
    "# Checking advices with clustering"
   ]
  },
  {
   "cell_type": "code",
   "execution_count": 15,
   "metadata": {},
   "outputs": [],
   "source": [
    "from sklearn.preprocessing import OneHotEncoder, LabelEncoder, LabelBinarizer\n",
    "\n",
    "def get_data(x):\n",
    "    data = x.copy()\n",
    "    # dropping text features (but not gift description)\n",
    "    text_like = ['OUTPUT:person_character_word', 'OUTPUT:person_appearance_word', 'OUTPUT:person_description_text',\n",
    "            'OUTPUT:person_communication_word', 'OUTPUT:person_individuality_word', 'OUTPUT:self_gift_link',]\n",
    "\n",
    "    # dataframe with text fields\n",
    "    # we'll use it later\n",
    "    tdata = data[text_like]\n",
    "    tdata = tdata.drop('OUTPUT:self_gift_link', axis=1)\n",
    "\n",
    "    data = data.drop(text_like, axis=1) #at the start we do not really need it\n",
    "\n",
    "    #gift description drop\n",
    "    data = data.drop(['OUTPUT:self_gift_name', 'Unnamed: 0'], axis=1)\n",
    "    \n",
    "    additional_drops = ['OUTPUT:self_gift_mark', 'OUTPUT:self_variants', 'OUTPUT:self_gift_times', 'OUTPUT:self_gift_usage',\n",
    "                    'OUTPUT:self_gift_bad_usage', 'self_gift_name_cleared', 'OUTPUT:self_time']\n",
    "    data = data.drop(additional_drops, axis=1)\n",
    "\n",
    "    \n",
    "    Y = data['OUTPUT:self_gift_mark_2']\n",
    "    X = data.drop('OUTPUT:self_gift_mark_2', axis=1) \n",
    "\n",
    "    leave = ['OUTPUT:person_age', 'OUTPUT:self_age']\n",
    "    to_onehot = X.drop(['OUTPUT:person_age', 'OUTPUT:self_age'], axis=1).columns.values\n",
    "\n",
    "    onehotencoded = pd.get_dummies(X[to_onehot].astype(str))\n",
    "\n",
    "    to_binarize = []\n",
    "\n",
    "    def binarize_column(data , column):\n",
    "        un = data[column].unique()\n",
    "        un_dict = {v:k for k, v in enumerate(un)}\n",
    "        data[column] = data[column].apply(lambda x: un_dict[x])\n",
    "\n",
    "    def binarize_set(data):\n",
    "        for col in data.columns:\n",
    "            binarize_column(data, col)\n",
    "\n",
    "    binarized = data[to_binarize].copy()\n",
    "    binarize_set(binarized)\n",
    "    \n",
    "    X_encoded = pd.concat([onehotencoded, X[leave]], axis=1)\n",
    "    return X_encoded, Y, tdata"
   ]
  },
  {
   "cell_type": "code",
   "execution_count": 16,
   "metadata": {},
   "outputs": [],
   "source": [
    "from nltk.tokenize import RegexpTokenizer\n",
    "from nltk.corpus import stopwords\n",
    "from nltk.stem.porter import PorterStemmer\n",
    "from gensim import corpora, models\n",
    "import operator\n",
    "import pymorphy2\n",
    "import gensim\n",
    "import nltk\n",
    "\n",
    "def return_thematic_features(model, doc_set):\n",
    "    tokenizer = RegexpTokenizer(r'\\w+')\n",
    "\n",
    "    ru_stop = stopwords.words('russian')\n",
    "\n",
    "    # Create p_stemmer of class PorterStemmer\n",
    "    p_stemmer = PorterStemmer()\n",
    "    \n",
    "    morph = pymorphy2.MorphAnalyzer()\n",
    "    # list for tokenized documents in loop\n",
    "    texts = []\n",
    "    token_counts = {}\n",
    "    sum_counts = 0\n",
    "    docs_tokens = []\n",
    "    # loop through document list\n",
    "    for idx in range(len(doc_set)):\n",
    "        # clean and tokenize document string\n",
    "        raw = doc_set[idx].lower()\n",
    "        tokens = tokenizer.tokenize(raw)\n",
    "        # уборка частых слов уже после токенизации осознанна\n",
    "        for elem in tokens:\n",
    "            if elem in token_counts:\n",
    "                token_counts[elem] += 1\n",
    "            else:\n",
    "                token_counts[elem] = 1\n",
    "            sum_counts += 1\n",
    "        docs_tokens.append(tokens)\n",
    "\n",
    "    sorted_counts = sorted(token_counts.items(), key=operator.itemgetter(1))\n",
    "    #sorted_counts.reverse()\n",
    "\n",
    "    summator = 0\n",
    "    sum_counts_fl = float(sum_counts)\n",
    "    for idx in range(len(sorted_counts)):\n",
    "        if summator / sum_counts_fl < float(0.4): # отсеиваемая доля\n",
    "            summator += sorted_counts[idx][1]\n",
    "            ru_stop.append(sorted_counts[idx][0])\n",
    "        else:\n",
    "            break \n",
    "\n",
    "    for idx in range(len(doc_set)):\n",
    "        tokens = docs_tokens[idx]\n",
    "        # remove stop words from tokens\n",
    "        stopped_tokens = [i for i in tokens if not i in ru_stop]\n",
    "        # stem tokens\n",
    "        #stemmed_tokens = [p_stemmer.stem(i) for i in stopped_tokens]\n",
    "\n",
    "        # add tokens to list\n",
    "        texts.append(stopped_tokens)\n",
    "        \n",
    "    normalized_texts = []\n",
    "    for elem in texts:\n",
    "        new = []\n",
    "        for w in elem:\n",
    "            p = morph.parse(w)[0]\n",
    "            new.append(p.normal_form)\n",
    "        normalized_texts.append(new)\n",
    "        \n",
    "    features = []\n",
    "    for text in texts:\n",
    "        answ = dict()\n",
    "        for i in range(model.num_topics):\n",
    "            answ['thematic_'+str(i)] = 0.0\n",
    "        dictionary = model.id2word\n",
    "        pred = dictionary.doc2bow(text)\n",
    "        for elem in model[pred]:\n",
    "            answ['thematic_'+str(elem[0])] = float(elem[1])\n",
    "        features.append(answ)\n",
    "    return features\n",
    "\n",
    "def get_prepared_train(X, tdata):\n",
    "    res = []\n",
    "    for idx, row in tdata.iterrows():\n",
    "        s = \"\"\n",
    "        for col in tdata.columns:\n",
    "            s += row[col].lower() + ' '\n",
    "        s = s.replace(',', '')\n",
    "        s = s.replace('  ', '')\n",
    "        res.append(s)\n",
    "    m = gensim.models.LdaModel.load(\"10/results.model\")\n",
    "    thematic_features = return_thematic_features(m, res)\n",
    "    tdata_features = pd.DataFrame(thematic_features)\n",
    "    \n",
    "    return pd.concat([X.reset_index(drop=True), tdata_features.reset_index()], axis=1)"
   ]
  },
  {
   "cell_type": "code",
   "execution_count": 17,
   "metadata": {},
   "outputs": [
    {
     "name": "stderr",
     "output_type": "stream",
     "text": [
      "/home/nexxof/anaconda3/lib/python3.6/site-packages/sklearn/ensemble/weight_boosting.py:29: DeprecationWarning: numpy.core.umath_tests is an internal NumPy module and should not be imported. It will be removed in a future NumPy release.\n",
      "  from numpy.core.umath_tests import inner1d\n"
     ]
    }
   ],
   "source": [
    "from sklearn.ensemble import RandomForestRegressor\n",
    "def get_model(X, Y):\n",
    "    theme_regressor = RandomForestRegressor(random_state=42, max_depth=3, n_estimators=22)\n",
    "    theme_regressor.fit(X, Y)\n",
    "    return theme_regressor"
   ]
  },
  {
   "cell_type": "code",
   "execution_count": 20,
   "metadata": {},
   "outputs": [],
   "source": [
    "# check if function is working\n",
    "import random\n",
    "pool_building = pd.read_csv('gifts_cleared_by_hands.tsv')\n",
    "pool =  pool_building['self_gift_name_cleared']\n",
    "\n",
    "description_columns = train.columns[train.columns.str.contains('self_gift_desc_')]\n",
    "\n",
    "\n",
    "descriptions_from_pool = train[description_columns].drop_duplicates()\n",
    "def get_samples(pool, dataset, description, descr_columns):\n",
    "    condition = [True for i in range(len(dataset))]\n",
    "    for desc, col in zip(description, descr_columns):\n",
    "        condition = condition & (dataset[col]==desc)\n",
    "        \n",
    "    return pool[condition].values[0]\n",
    "        \n",
    "\n",
    "def rate_descriptions(model, descriptions_from_pool, person_description, description_columns):\n",
    "    '''\n",
    "    Person description must contain columns for present descriptions 'cause I'm lazy bastard\n",
    "    '''\n",
    "    rated = descriptions_from_pool.copy()\n",
    "    rated['rating'] = [0 for i in range(len(rated))]\n",
    "    for x in descriptions_from_pool.iterrows():\n",
    "        description = x[1].values\n",
    "        current_sample = person_description.copy()\n",
    "        current_sample[description_columns] = description\n",
    "        \n",
    "        prediction = model.predict([current_sample.values])\n",
    "        \n",
    "        rated.loc[x[0], 'rating'] = prediction\n",
    "        \n",
    "    return rated\n",
    "\n",
    "def get_proposals(model, dataset, person_description, description_columns, pool, labels):\n",
    "    rating = rate_descriptions(model,  dataset[description_columns], person_description, description_columns)\n",
    "    rating = pd.concat([rating, pd.DataFrame(labels, columns = ['cluster'])], axis=1)\n",
    "    rating = rating.sort_values('rating', ascending=False).reset_index()\n",
    "    \n",
    "    proposals = []\n",
    "    \n",
    "    for label in labels.unique():\n",
    "        r = random.randint(0, 5)\n",
    "        top_from_cluster = rating[rating.cluster == label].reset_index(drop=True).iloc[r]\n",
    "        score = top_from_cluster.rating\n",
    "        top_from_cluster = top_from_cluster.drop(labels=['rating']).values[1:]\n",
    "        \n",
    "        proposals.append(get_samples(pool,\n",
    "                                     dataset,\n",
    "                                     top_from_cluster,\n",
    "                                     description_columns))\n",
    "        print (proposals[-1], score)\n",
    "    \n",
    "    #for sample in rating.iloc[:10].iterrows():\n",
    "    #    proposals.append(get_samples(pool,\n",
    "    #                                 dataset,\n",
    "    #                                 sample[1].drop(labels=['rating']).values[1:],\n",
    "    #                                 description_columns))\n",
    "        \n",
    "    return rating.rating#list(set(map(lambda x: x.lower(), proposals)))"
   ]
  },
  {
   "cell_type": "code",
   "execution_count": 54,
   "metadata": {},
   "outputs": [],
   "source": [
    "old_X, old_Y, old_tdata = get_data(col)\n",
    "old_train = get_prepared_train(old_X, old_tdata)\n",
    "old_model = get_model(old_train, old_Y)"
   ]
  },
  {
   "cell_type": "code",
   "execution_count": 56,
   "metadata": {},
   "outputs": [
    {
     "name": "stdout",
     "output_type": "stream",
     "text": [
      "наушники 85.46240241827827\n",
      "набор для бритья 85.46240241827827\n",
      "конструктор 85.82386453346354\n",
      "телефон 85.82386453346354\n",
      "украшение 85.46240241827827\n",
      "мыло ручной работы 85.82386453346354\n",
      "телефон 85.82386453346354\n",
      "телефон 81.12778194501665\n",
      "украшение 85.82386453346354\n",
      "набор для бритья 85.46240241827827\n"
     ]
    }
   ],
   "source": [
    "r=get_proposals(old_model, old_train, old_train.iloc[100], description_columns, pool, labels)"
   ]
  },
  {
   "cell_type": "code",
   "execution_count": 44,
   "metadata": {},
   "outputs": [],
   "source": [
    "def oversample_train(X, Y, pool):\n",
    "    temp = pd.concat([X, pd.DataFrame(list(zip(Y,pool)), columns=['target', 'gift'])],axis=1)\n",
    "    result = []\n",
    "    for gift in temp.gift.unique():\n",
    "        to_sample = temp[temp.gift==gift]\n",
    "        if len(to_sample)<10:\n",
    "            result.append(pd.concat([to_sample for i in range(int(10/len(to_sample)))]))\n",
    "        else:\n",
    "            result.append(to_sample)\n",
    "    concatenated = pd.concat(result)\n",
    "    pool = concatenated.gift\n",
    "    Y= concatenated.target\n",
    "    return concatenated.drop(['target', 'gift'], axis=1), Y, pool"
   ]
  },
  {
   "cell_type": "code",
   "execution_count": 60,
   "metadata": {},
   "outputs": [],
   "source": [
    "train, Y, pool = oversample_train(old_train, old_Y, pool)\n",
    "model = get_model(train, Y)"
   ]
  },
  {
   "cell_type": "code",
   "execution_count": 61,
   "metadata": {},
   "outputs": [
    {
     "name": "stdout",
     "output_type": "stream",
     "text": [
      "набор для бритья 84.42950488374976\n",
      "набор для бритья 87.3586005031901\n",
      "конструктор 87.72006261837537\n",
      "телефон 87.72006261837537\n",
      "гимнастическая гиря 87.3586005031901\n",
      "набор для ванной 87.72006261837537\n",
      "мыло ручной работы 87.3586005031901\n",
      "мыло ручной работы 87.72006261837537\n",
      "конструктор 87.72006261837537\n",
      "телефон 87.72006261837537\n"
     ]
    }
   ],
   "source": [
    "r= get_proposals(model, old_train, old_train.iloc[180], description_columns, pool, labels)"
   ]
  },
  {
   "cell_type": "code",
   "execution_count": 62,
   "metadata": {},
   "outputs": [
    {
     "data": {
      "text/plain": [
       "array([0.00000000e+00, 0.00000000e+00, 0.00000000e+00, 0.00000000e+00,\n",
       "       0.00000000e+00, 0.00000000e+00, 0.00000000e+00, 0.00000000e+00,\n",
       "       0.00000000e+00, 0.00000000e+00, 0.00000000e+00, 0.00000000e+00,\n",
       "       0.00000000e+00, 0.00000000e+00, 5.25790798e-03, 6.18452903e-03,\n",
       "       0.00000000e+00, 0.00000000e+00, 0.00000000e+00, 0.00000000e+00,\n",
       "       0.00000000e+00, 0.00000000e+00, 0.00000000e+00, 0.00000000e+00,\n",
       "       0.00000000e+00, 6.24904088e-03, 3.80669957e-03, 0.00000000e+00,\n",
       "       0.00000000e+00, 0.00000000e+00, 0.00000000e+00, 0.00000000e+00,\n",
       "       0.00000000e+00, 0.00000000e+00, 0.00000000e+00, 0.00000000e+00,\n",
       "       0.00000000e+00, 0.00000000e+00, 0.00000000e+00, 0.00000000e+00,\n",
       "       0.00000000e+00, 0.00000000e+00, 0.00000000e+00, 0.00000000e+00,\n",
       "       0.00000000e+00, 0.00000000e+00, 0.00000000e+00, 0.00000000e+00,\n",
       "       1.39834217e-02, 8.15956271e-03, 0.00000000e+00, 0.00000000e+00,\n",
       "       0.00000000e+00, 0.00000000e+00, 0.00000000e+00, 0.00000000e+00,\n",
       "       2.98329270e-03, 1.34516382e-02, 1.30383863e-02, 0.00000000e+00,\n",
       "       0.00000000e+00, 1.54455138e-02, 0.00000000e+00, 0.00000000e+00,\n",
       "       0.00000000e+00, 0.00000000e+00, 0.00000000e+00, 1.06198080e-02,\n",
       "       0.00000000e+00, 0.00000000e+00, 0.00000000e+00, 0.00000000e+00,\n",
       "       0.00000000e+00, 0.00000000e+00, 1.60129695e-02, 0.00000000e+00,\n",
       "       0.00000000e+00, 0.00000000e+00, 0.00000000e+00, 1.77212627e-02,\n",
       "       0.00000000e+00, 0.00000000e+00, 0.00000000e+00, 0.00000000e+00,\n",
       "       7.58002161e-03, 0.00000000e+00, 0.00000000e+00, 0.00000000e+00,\n",
       "       0.00000000e+00, 0.00000000e+00, 0.00000000e+00, 0.00000000e+00,\n",
       "       1.63270180e-02, 1.83175259e-02, 0.00000000e+00, 0.00000000e+00,\n",
       "       0.00000000e+00, 0.00000000e+00, 0.00000000e+00, 0.00000000e+00,\n",
       "       0.00000000e+00, 0.00000000e+00, 0.00000000e+00, 0.00000000e+00,\n",
       "       0.00000000e+00, 0.00000000e+00, 6.08062048e-03, 0.00000000e+00,\n",
       "       0.00000000e+00, 0.00000000e+00, 0.00000000e+00, 0.00000000e+00,\n",
       "       9.30832856e-03, 0.00000000e+00, 4.64672680e-03, 0.00000000e+00,\n",
       "       0.00000000e+00, 0.00000000e+00, 0.00000000e+00, 0.00000000e+00,\n",
       "       0.00000000e+00, 0.00000000e+00, 0.00000000e+00, 0.00000000e+00,\n",
       "       1.76605671e-04, 0.00000000e+00, 0.00000000e+00, 0.00000000e+00,\n",
       "       7.73643468e-03, 0.00000000e+00, 1.88854533e-02, 6.91607475e-03,\n",
       "       0.00000000e+00, 0.00000000e+00, 0.00000000e+00, 0.00000000e+00,\n",
       "       0.00000000e+00, 0.00000000e+00, 1.51900132e-02, 0.00000000e+00,\n",
       "       2.10184253e-02, 0.00000000e+00, 0.00000000e+00, 0.00000000e+00,\n",
       "       0.00000000e+00, 0.00000000e+00, 0.00000000e+00, 0.00000000e+00,\n",
       "       3.46558374e-04, 0.00000000e+00, 0.00000000e+00, 0.00000000e+00,\n",
       "       0.00000000e+00, 0.00000000e+00, 0.00000000e+00, 0.00000000e+00,\n",
       "       0.00000000e+00, 0.00000000e+00, 0.00000000e+00, 0.00000000e+00,\n",
       "       0.00000000e+00, 0.00000000e+00, 0.00000000e+00, 3.01961654e-02,\n",
       "       7.40716960e-02, 9.07769517e-03, 0.00000000e+00, 0.00000000e+00,\n",
       "       0.00000000e+00, 0.00000000e+00, 8.32828482e-03, 0.00000000e+00,\n",
       "       3.49011046e-04, 5.11179341e-03, 0.00000000e+00, 0.00000000e+00,\n",
       "       6.34879237e-03, 0.00000000e+00, 0.00000000e+00, 1.04952488e-02,\n",
       "       8.75470408e-03, 2.71004530e-03, 0.00000000e+00, 0.00000000e+00,\n",
       "       8.56981730e-03, 0.00000000e+00, 2.55917751e-01, 0.00000000e+00,\n",
       "       3.78925485e-02, 8.42600970e-03, 2.44413926e-02, 4.51013926e-02,\n",
       "       8.16758359e-03, 1.07505720e-01, 3.01528235e-02, 0.00000000e+00,\n",
       "       5.29376854e-02])"
      ]
     },
     "execution_count": 62,
     "metadata": {},
     "output_type": "execute_result"
    }
   ],
   "source": [
    "model.feature_importances_"
   ]
  },
  {
   "cell_type": "markdown",
   "metadata": {},
   "source": [
    "# Model Selection"
   ]
  },
  {
   "cell_type": "code",
   "execution_count": 23,
   "metadata": {
    "collapsed": true
   },
   "outputs": [],
   "source": [
    "from sklearn.model_selection import GridSearchCV\n",
    "from sklearn.ensemble import RandomForestRegressor\n",
    "from sklearn.model_selection import cross_val_score\n",
    "from sklearn.metrics import mean_squared_error, make_scorer\n",
    "import numpy as np\n",
    "def perform_n_cv(clf, x, y, cv_count, scoring, iterations):\n",
    "    cv_accumulator = []\n",
    "    for i in range(iterations):\n",
    "        cv = cross_val_score(clf, x, y, cv=cv_count, scoring=scoring)\n",
    "        cv_accumulator.append([np.mean(np.sqrt(cv)), np.std(np.sqrt(cv))])\n",
    "        \n",
    "    return np.mean(np.array(cv_accumulator)[:, 0]), np.mean(np.array(cv_accumulator)[:, 1])\n",
    "\n",
    "def score_params(*data, model, param_grid):\n",
    "    X, Y = data\n",
    "    rfr=model#Lasso(random_state=42)\n",
    "\n",
    "    \n",
    "\n",
    "    CV_rfc = GridSearchCV(estimator=rfr, param_grid=param_grid, cv= 10)\n",
    "    CV_rfc.fit(X, Y)\n",
    "\n",
    "    print (CV_rfc.best_params_)\n",
    "    rfr=model#Lasso(random_state=42)\n",
    "    rfr.set_params(**CV_rfc.best_params_)\n",
    "    mean, std = perform_n_cv(rfr, X, Y, cv_count=10, scoring=make_scorer(mean_squared_error), iterations=1)\n",
    "    print (mean, '+-' ,std)"
   ]
  },
  {
   "cell_type": "code",
   "execution_count": 24,
   "metadata": {},
   "outputs": [
    {
     "name": "stdout",
     "output_type": "stream",
     "text": [
      "{'alpha': 1000}\n",
      "26.085249446213517 +- 3.5666309502277995\n"
     ]
    }
   ],
   "source": [
    "from sklearn.linear_model import Lasso, Ridge\n",
    "score_params(train, Y, model=Ridge(random_state=42),\n",
    "             param_grid = {'alpha': [0.01, 0.1, 1, 10, 20, 50, 100, 500, 1000]})"
   ]
  },
  {
   "cell_type": "code",
   "execution_count": 63,
   "metadata": {},
   "outputs": [
    {
     "data": {
      "text/plain": [
       "(array([  1.,   0.,   0.,   0.,   0.,   0.,   0.,   0.,   0.,   0.,   0.,\n",
       "          0.,   0.,   0.,   0.,   0.,   0.,   0.,   0.,   0.,   0.,   0.,\n",
       "          0.,   0.,   0.,   0.,   0.,   0.,   0.,   0.,   0.,   0.,   0.,\n",
       "          0.,   0.,   0.,   0.,   0.,   0.,   0.,   0.,   0.,   0.,   0.,\n",
       "          0.,   0.,   0.,   0.,   0.,   0.,   0.,   0.,   0.,   0.,   0.,\n",
       "          0.,   0.,   0.,   0.,   0.,   0.,   0.,   0.,   0.,   0.,   0.,\n",
       "          0.,   0.,   0.,   0.,   0.,   0.,   0.,   0.,   0.,   0.,   0.,\n",
       "          0.,   0.,   0.,   0.,   0.,   0.,   0.,   0.,   0.,   0.,   0.,\n",
       "          0.,   0.,   0.,   0.,   0.,   0.,   0.,   0.,   0.,   0.,   0.,\n",
       "          0.,   0.,   0.,   0.,   0.,   0.,   0.,   0.,   0.,   0.,   0.,\n",
       "          0.,   0.,   0.,   0.,   0.,   0.,   0.,   0.,   0.,   0.,   0.,\n",
       "          0.,   0.,   0.,   0.,   0.,   0.,   0.,   0.,   0.,   0.,   0.,\n",
       "          0.,   0.,   0.,   0.,   0.,   0.,   0.,   0.,   0.,   0.,   0.,\n",
       "          0.,   0.,   0.,   0.,   0.,   0.,   0.,   0.,   0.,   0.,   0.,\n",
       "          0.,   0.,   0.,   0.,   0.,   0.,   0.,   0.,   0.,   0.,   0.,\n",
       "          0.,   0.,   0.,   0.,   0.,   0.,   0.,   0.,   0.,   0.,   0.,\n",
       "          0.,   0.,   0.,   0.,   0.,   0.,   0.,   0.,   0.,   0.,   0.,\n",
       "          0.,   0.,   0.,   0.,   0.,   0.,   0.,   0.,   0.,   0.,   0.,\n",
       "          0.,   0.,   0.,   0.,   0.,   0.,   0.,   0.,   0.,   0.,   0.,\n",
       "          0.,   0.,   0.,   0.,   0.,   0.,   0.,   0.,   0.,   0.,   0.,\n",
       "          0.,   0.,   0.,   0.,   0.,   0.,   0.,   0.,   0.,   0.,   0.,\n",
       "          0.,   0.,   0.,   0.,   0.,   0.,   0.,   0.,   0.,   0.,   0.,\n",
       "          0.,   0.,   0.,   0.,   0.,   0.,   0.,   0.,   0.,   0.,   0.,\n",
       "          0.,   0.,   0.,   0.,   0.,   0.,   0.,   0.,   0.,   0.,   0.,\n",
       "          4.,   0.,  46.,   0.,   0.,   0.,   0.,   0.,   0.,   0.,  34.,\n",
       "          0.,   0.,   0.,   0.,   0.,   0.,   0.,   0.,   0.,   0.,   0.,\n",
       "         47.,   0.,   0.,   0.,   0.,   0.,   0.,   0.,   6.,   0., 315.,\n",
       "          0.,   0.,   0.,   0.,   0.,   0.,   0.,   0.,   0.,   0.,   0.,\n",
       "          0.,   0.,   0.,   0.,   0.,   0.,   0.,   0., 231.,   0.,   0.,\n",
       "          0.,   0.,   0.,   0.,   0.,   0.,   0.,   0.,   0.,   0.,   0.,\n",
       "          0.,   0.,   0.,   0.,   0.,   0.,   0.,   0.,   0.,   0.,   0.,\n",
       "          0.,   0.,   0.,   0.,   0.,   0.,   0.,   0.,   0.,   0.,   0.,\n",
       "          0.,   0.,   0.,   0.,   0.,   0.,   0.,   0.,   0.,   0.,   0.,\n",
       "          0.,   0.,   0.,   0.,   0.,   0.,   0.,   0.,   0.,   0.,   0.,\n",
       "          0.,   0.,   0.,   0.,   0.,   0.,   0.,   0.,   0.,   0.,   0.,\n",
       "          0.,   0.,   2.,   0.,   0.,   0.,   0.,   0.,   0.,   0.,   0.,\n",
       "          0.,   0.,   0.,   0.,   0.,   0.,   0.,   0.,   0.,   0.,   0.,\n",
       "          0.,   0.,   0.,  12.,   0.,   0.,   0.,   0.,   0.,   0.,   0.,\n",
       "          0.,   0.,   0.,   0.,   0.,   0.,   0.,   0.,   0.,   0.,   0.,\n",
       "          0.,   0.,   0.,   0.,   0.,   0.,   0.,   0.,   0.,   0.,   0.,\n",
       "          0.,   0.,   0.,   0.,   0.,   0.,   0.,   0.,   0.,   0.,   0.,\n",
       "          0.,   0.,   0.,   0.,   0.,   0.,   8.,   0.,   0.,   0.,   0.,\n",
       "          0.,   0.,   0.,   0.,   0.,   0.,   0.,   0.,   0.,   0.,   0.,\n",
       "          0.,   0.,   0.,   0.,   3.,   0.,  59.,   0.,   0.,   0.,   0.,\n",
       "          0.,   0.,   0.,   0.,   0.,   0.,   0.,   0.,   0.,   0.,   0.,\n",
       "          0.,   0.,   0.,   0., 188.]),\n",
       " array([78.75624602, 78.77417366, 78.79210129, 78.81002892, 78.82795656,\n",
       "        78.84588419, 78.86381182, 78.88173946, 78.89966709, 78.91759472,\n",
       "        78.93552236, 78.95344999, 78.97137762, 78.98930526, 79.00723289,\n",
       "        79.02516052, 79.04308815, 79.06101579, 79.07894342, 79.09687105,\n",
       "        79.11479869, 79.13272632, 79.15065395, 79.16858159, 79.18650922,\n",
       "        79.20443685, 79.22236449, 79.24029212, 79.25821975, 79.27614739,\n",
       "        79.29407502, 79.31200265, 79.32993029, 79.34785792, 79.36578555,\n",
       "        79.38371319, 79.40164082, 79.41956845, 79.43749609, 79.45542372,\n",
       "        79.47335135, 79.49127898, 79.50920662, 79.52713425, 79.54506188,\n",
       "        79.56298952, 79.58091715, 79.59884478, 79.61677242, 79.63470005,\n",
       "        79.65262768, 79.67055532, 79.68848295, 79.70641058, 79.72433822,\n",
       "        79.74226585, 79.76019348, 79.77812112, 79.79604875, 79.81397638,\n",
       "        79.83190402, 79.84983165, 79.86775928, 79.88568691, 79.90361455,\n",
       "        79.92154218, 79.93946981, 79.95739745, 79.97532508, 79.99325271,\n",
       "        80.01118035, 80.02910798, 80.04703561, 80.06496325, 80.08289088,\n",
       "        80.10081851, 80.11874615, 80.13667378, 80.15460141, 80.17252905,\n",
       "        80.19045668, 80.20838431, 80.22631195, 80.24423958, 80.26216721,\n",
       "        80.28009484, 80.29802248, 80.31595011, 80.33387774, 80.35180538,\n",
       "        80.36973301, 80.38766064, 80.40558828, 80.42351591, 80.44144354,\n",
       "        80.45937118, 80.47729881, 80.49522644, 80.51315408, 80.53108171,\n",
       "        80.54900934, 80.56693698, 80.58486461, 80.60279224, 80.62071988,\n",
       "        80.63864751, 80.65657514, 80.67450278, 80.69243041, 80.71035804,\n",
       "        80.72828567, 80.74621331, 80.76414094, 80.78206857, 80.79999621,\n",
       "        80.81792384, 80.83585147, 80.85377911, 80.87170674, 80.88963437,\n",
       "        80.90756201, 80.92548964, 80.94341727, 80.96134491, 80.97927254,\n",
       "        80.99720017, 81.01512781, 81.03305544, 81.05098307, 81.06891071,\n",
       "        81.08683834, 81.10476597, 81.1226936 , 81.14062124, 81.15854887,\n",
       "        81.1764765 , 81.19440414, 81.21233177, 81.2302594 , 81.24818704,\n",
       "        81.26611467, 81.2840423 , 81.30196994, 81.31989757, 81.3378252 ,\n",
       "        81.35575284, 81.37368047, 81.3916081 , 81.40953574, 81.42746337,\n",
       "        81.445391  , 81.46331864, 81.48124627, 81.4991739 , 81.51710153,\n",
       "        81.53502917, 81.5529568 , 81.57088443, 81.58881207, 81.6067397 ,\n",
       "        81.62466733, 81.64259497, 81.6605226 , 81.67845023, 81.69637787,\n",
       "        81.7143055 , 81.73223313, 81.75016077, 81.7680884 , 81.78601603,\n",
       "        81.80394367, 81.8218713 , 81.83979893, 81.85772657, 81.8756542 ,\n",
       "        81.89358183, 81.91150947, 81.9294371 , 81.94736473, 81.96529236,\n",
       "        81.98322   , 82.00114763, 82.01907526, 82.0370029 , 82.05493053,\n",
       "        82.07285816, 82.0907858 , 82.10871343, 82.12664106, 82.1445687 ,\n",
       "        82.16249633, 82.18042396, 82.1983516 , 82.21627923, 82.23420686,\n",
       "        82.2521345 , 82.27006213, 82.28798976, 82.3059174 , 82.32384503,\n",
       "        82.34177266, 82.35970029, 82.37762793, 82.39555556, 82.41348319,\n",
       "        82.43141083, 82.44933846, 82.46726609, 82.48519373, 82.50312136,\n",
       "        82.52104899, 82.53897663, 82.55690426, 82.57483189, 82.59275953,\n",
       "        82.61068716, 82.62861479, 82.64654243, 82.66447006, 82.68239769,\n",
       "        82.70032533, 82.71825296, 82.73618059, 82.75410823, 82.77203586,\n",
       "        82.78996349, 82.80789112, 82.82581876, 82.84374639, 82.86167402,\n",
       "        82.87960166, 82.89752929, 82.91545692, 82.93338456, 82.95131219,\n",
       "        82.96923982, 82.98716746, 83.00509509, 83.02302272, 83.04095036,\n",
       "        83.05887799, 83.07680562, 83.09473326, 83.11266089, 83.13058852,\n",
       "        83.14851616, 83.16644379, 83.18437142, 83.20229905, 83.22022669,\n",
       "        83.23815432, 83.25608195, 83.27400959, 83.29193722, 83.30986485,\n",
       "        83.32779249, 83.34572012, 83.36364775, 83.38157539, 83.39950302,\n",
       "        83.41743065, 83.43535829, 83.45328592, 83.47121355, 83.48914119,\n",
       "        83.50706882, 83.52499645, 83.54292409, 83.56085172, 83.57877935,\n",
       "        83.59670698, 83.61463462, 83.63256225, 83.65048988, 83.66841752,\n",
       "        83.68634515, 83.70427278, 83.72220042, 83.74012805, 83.75805568,\n",
       "        83.77598332, 83.79391095, 83.81183858, 83.82976622, 83.84769385,\n",
       "        83.86562148, 83.88354912, 83.90147675, 83.91940438, 83.93733202,\n",
       "        83.95525965, 83.97318728, 83.99111492, 84.00904255, 84.02697018,\n",
       "        84.04489781, 84.06282545, 84.08075308, 84.09868071, 84.11660835,\n",
       "        84.13453598, 84.15246361, 84.17039125, 84.18831888, 84.20624651,\n",
       "        84.22417415, 84.24210178, 84.26002941, 84.27795705, 84.29588468,\n",
       "        84.31381231, 84.33173995, 84.34966758, 84.36759521, 84.38552285,\n",
       "        84.40345048, 84.42137811, 84.43930574, 84.45723338, 84.47516101,\n",
       "        84.49308864, 84.51101628, 84.52894391, 84.54687154, 84.56479918,\n",
       "        84.58272681, 84.60065444, 84.61858208, 84.63650971, 84.65443734,\n",
       "        84.67236498, 84.69029261, 84.70822024, 84.72614788, 84.74407551,\n",
       "        84.76200314, 84.77993078, 84.79785841, 84.81578604, 84.83371367,\n",
       "        84.85164131, 84.86956894, 84.88749657, 84.90542421, 84.92335184,\n",
       "        84.94127947, 84.95920711, 84.97713474, 84.99506237, 85.01299001,\n",
       "        85.03091764, 85.04884527, 85.06677291, 85.08470054, 85.10262817,\n",
       "        85.12055581, 85.13848344, 85.15641107, 85.17433871, 85.19226634,\n",
       "        85.21019397, 85.22812161, 85.24604924, 85.26397687, 85.2819045 ,\n",
       "        85.29983214, 85.31775977, 85.3356874 , 85.35361504, 85.37154267,\n",
       "        85.3894703 , 85.40739794, 85.42532557, 85.4432532 , 85.46118084,\n",
       "        85.47910847, 85.4970361 , 85.51496374, 85.53289137, 85.550819  ,\n",
       "        85.56874664, 85.58667427, 85.6046019 , 85.62252954, 85.64045717,\n",
       "        85.6583848 , 85.67631243, 85.69424007, 85.7121677 , 85.73009533,\n",
       "        85.74802297, 85.7659506 , 85.78387823, 85.80180587, 85.8197335 ,\n",
       "        85.83766113, 85.85558877, 85.8735164 , 85.89144403, 85.90937167,\n",
       "        85.9272993 , 85.94522693, 85.96315457, 85.9810822 , 85.99900983,\n",
       "        86.01693747, 86.0348651 , 86.05279273, 86.07072036, 86.088648  ,\n",
       "        86.10657563, 86.12450326, 86.1424309 , 86.16035853, 86.17828616,\n",
       "        86.1962138 , 86.21414143, 86.23206906, 86.2499967 , 86.26792433,\n",
       "        86.28585196, 86.3037796 , 86.32170723, 86.33963486, 86.3575625 ,\n",
       "        86.37549013, 86.39341776, 86.4113454 , 86.42927303, 86.44720066,\n",
       "        86.4651283 , 86.48305593, 86.50098356, 86.51891119, 86.53683883,\n",
       "        86.55476646, 86.57269409, 86.59062173, 86.60854936, 86.62647699,\n",
       "        86.64440463, 86.66233226, 86.68025989, 86.69818753, 86.71611516,\n",
       "        86.73404279, 86.75197043, 86.76989806, 86.78782569, 86.80575333,\n",
       "        86.82368096, 86.84160859, 86.85953623, 86.87746386, 86.89539149,\n",
       "        86.91331912, 86.93124676, 86.94917439, 86.96710202, 86.98502966,\n",
       "        87.00295729, 87.02088492, 87.03881256, 87.05674019, 87.07466782,\n",
       "        87.09259546, 87.11052309, 87.12845072, 87.14637836, 87.16430599,\n",
       "        87.18223362, 87.20016126, 87.21808889, 87.23601652, 87.25394416,\n",
       "        87.27187179, 87.28979942, 87.30772706, 87.32565469, 87.34358232,\n",
       "        87.36150995, 87.37943759, 87.39736522, 87.41529285, 87.43322049,\n",
       "        87.45114812, 87.46907575, 87.48700339, 87.50493102, 87.52285865,\n",
       "        87.54078629, 87.55871392, 87.57664155, 87.59456919, 87.61249682,\n",
       "        87.63042445, 87.64835209, 87.66627972, 87.68420735, 87.70213499,\n",
       "        87.72006262]),\n",
       " <a list of 500 Patch objects>)"
      ]
     },
     "execution_count": 63,
     "metadata": {},
     "output_type": "execute_result"
    },
    {
     "data": {
      "image/png": "[encoded data removed]",
      "text/plain": [
       "<Figure size 432x288 with 1 Axes>"
      ]
     },
     "metadata": {},
     "output_type": "display_data"
    }
   ],
   "source": [
    "import matplotlib.pyplot as plt\n",
    "from scipy import stats\n",
    "%matplotlib inline  \n",
    "plt.hist(r, bins=500)"
   ]
  },
  {
   "cell_type": "code",
   "execution_count": null,
   "metadata": {
    "collapsed": true
   },
   "outputs": [],
   "source": []
  }
 ],
 "metadata": {
  "kernelspec": {
   "display_name": "Python 3",
   "language": "python",
   "name": "python3"
  },
  "language_info": {
   "codemirror_mode": {
    "name": "ipython",
    "version": 3
   },
   "file_extension": ".py",
   "mimetype": "text/x-python",
   "name": "python",
   "nbconvert_exporter": "python",
   "pygments_lexer": "ipython3",
   "version": "3.6.1"
  }
 },
 "nbformat": 4,
 "nbformat_minor": 2
}
