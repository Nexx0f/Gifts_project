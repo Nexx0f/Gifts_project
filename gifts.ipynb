{
 "cells": [
  {
   "cell_type": "code",
   "execution_count": 47,
   "metadata": {
    "collapsed": true
   },
   "outputs": [],
   "source": [
    "import numpy as np\n",
    "import pandas as pd\n",
    "import seaborn as sns\n",
    "import matplotlib.pyplot as plt\n",
    "from scipy import stats\n",
    "%matplotlib inline  "
   ]
  },
  {
   "cell_type": "code",
   "execution_count": 48,
   "metadata": {},
   "outputs": [
    {
     "name": "stdout",
     "output_type": "stream",
     "text": [
      "OUTPUT:self_age 53.0\n",
      "OUTPUT:self_time 2.0\n",
      "OUTPUT:person_age 56.0\n",
      "OUTPUT:person_tel 2.0\n",
      "OUTPUT:person_auto 0.0\n",
      "OUTPUT:person_hair 0.0\n",
      "OUTPUT:person_time 7.0\n",
      "OUTPUT:person_work 2.0\n",
      "OUTPUT:self_gender 1.0\n",
      "OUTPUT:person_hobby 0.0\n",
      "OUTPUT:person_music 4.0\n",
      "OUTPUT:person_sport 0.0\n",
      "OUTPUT:person_gender 1.0\n",
      "OUTPUT:person_height 3.0\n",
      "OUTPUT:person_mental 0.0\n",
      "OUTPUT:person_social 2.0\n",
      "OUTPUT:self_variants 1.0\n",
      "OUTPUT:person_animals 1.0\n",
      "OUTPUT:self_gift_link nan\n",
      "OUTPUT:self_gift_mark 0.0\n",
      "OUTPUT:self_gift_name Аккустическая система с фм\n",
      "OUTPUT:person_psycho_1 1.0\n",
      "OUTPUT:person_psycho_2 0.0\n",
      "OUTPUT:person_psycho_3 0.0\n",
      "OUTPUT:person_psycho_4 0.0\n",
      "OUTPUT:person_psycho_5 0.0\n",
      "OUTPUT:person_psycho_6 0.0\n",
      "OUTPUT:person_psycho_7 0.0\n",
      "OUTPUT:person_psycho_8 1.0\n",
      "OUTPUT:person_psycho_9 1.0\n",
      "OUTPUT:self_gift_times 6.0\n",
      "OUTPUT:self_gift_usage 0.0\n",
      "OUTPUT:person_closeness 4.0\n",
      "OUTPUT:person_education 1.0\n",
      "OUTPUT:self_gift_desc_1 0.0\n",
      "OUTPUT:self_gift_desc_2 0.0\n",
      "OUTPUT:self_gift_desc_3 1.0\n",
      "OUTPUT:self_gift_desc_4 1.0\n",
      "OUTPUT:self_gift_desc_5 0.0\n",
      "OUTPUT:self_gift_desc_6 2.0\n",
      "OUTPUT:self_gift_desc_7 1.0\n",
      "OUTPUT:self_gift_desc_8 2.0\n",
      "OUTPUT:self_gift_desc_9 1.0\n",
      "OUTPUT:self_gift_mark_2 100.0\n",
      "OUTPUT:person_chronotype 0.0\n",
      "OUTPUT:person_hair_color 0.0\n",
      "OUTPUT:self_gift_desc_10 1.0\n",
      "OUTPUT:self_gift_desc_11 1.0\n",
      "OUTPUT:self_gift_desc_12 1.0\n",
      "OUTPUT:self_gift_desc_13 2.0\n",
      "OUTPUT:self_wish_to_give 1.0\n",
      "OUTPUT:person_temperament 3.0\n",
      "OUTPUT:person_animals_like 0.0\n",
      "OUTPUT:self_gift_bad_usage 1.0\n",
      "OUTPUT:person_character_word уравновешенный\n",
      "OUTPUT:person_appearance_word приятная\n",
      "OUTPUT:person_description_text чистоплотный, организованный, ответственный, пунктуальный, всегда доводит начатое дело до конца, любящий природу\n",
      "OUTPUT:person_communication_word приятное\n",
      "OUTPUT:person_individuality_word порядочный\n"
     ]
    }
   ],
   "source": [
    "data = pd.read_csv('./gifts-data.tsv', delimiter='\\t')\n",
    "\n",
    "#dropping invalid rows (every second BTW)\n",
    "data = data.drop([i for i in range (1, len(data), 2)], axis=0)\n",
    "\n",
    "#droppint working columns\n",
    "to_drop = ['INPUT:theme', 'ASSIGNMENT:link', 'ASSIGNMENT:assignment_id', 'ASSIGNMENT:worker_id',\n",
    "           'ASSIGNMENT:status', 'ASSIGNMENT:started', 'ACCEPT:verdict', 'ACCEPT:comment']\n",
    "data = data.drop(to_drop, axis=1)\n",
    "\n",
    "#dropping fully nan columns\n",
    "for col in data.columns:\n",
    "    nan_ = sum(data[col].isnull())\n",
    "    if nan_ == len(data):\n",
    "        data = data.drop([col], axis=1)\n",
    "\n",
    "#checking out what's left\n",
    "for key, value in data.iloc[0].iteritems():\n",
    "    print (key, value)"
   ]
  },
  {
   "cell_type": "code",
   "execution_count": 49,
   "metadata": {},
   "outputs": [],
   "source": [
    "# dropping text features (but not gift description)\n",
    "text_like = ['OUTPUT:person_character_word', 'OUTPUT:person_appearance_word', 'OUTPUT:person_description_text',\n",
    "            'OUTPUT:person_communication_word', 'OUTPUT:person_individuality_word', 'OUTPUT:self_gift_link',]\n",
    "\n",
    "data = data.drop(text_like, axis=1) #at the start we do not really need it\n",
    "\n",
    "#gift description drop\n",
    "data = data.drop(['OUTPUT:self_gift_name'], axis=1)"
   ]
  },
  {
   "cell_type": "code",
   "execution_count": 50,
   "metadata": {},
   "outputs": [
    {
     "data": {
      "text/plain": [
       "(array([ 0,  1,  2,  3,  4,  5,  6,  7,  8,  9, 10, 11, 12, 13, 14, 15, 16,\n",
       "        17, 18, 19, 20, 21, 22, 23, 24, 25, 26, 27, 28, 29, 30, 31, 32, 33,\n",
       "        34, 35, 36, 37, 38, 39, 40, 41, 42, 43]),\n",
       " <a list of 44 Text xticklabel objects>)"
      ]
     },
     "execution_count": 50,
     "metadata": {},
     "output_type": "execute_result"
    },
    {
     "data": {
      "image/png": "[encoded data removed]",
      "text/plain": [
       "<Figure size 360x360 with 1 Axes>"
      ]
     },
     "metadata": {},
     "output_type": "display_data"
    }
   ],
   "source": [
    "sns.catplot(x='Mark', kind='count', data=pd.DataFrame(data['OUTPUT:self_gift_mark_2'].values, columns=['Mark']), )\n",
    "plt.xticks(rotation=90)\n"
   ]
  },
  {
   "cell_type": "markdown",
   "metadata": {},
   "source": [
    "тут рассказать про три пика и про то что оценка от 1 до 100 для того чтобы получить три пика 80 90 100, \n",
    "которые соответствуют оценкам 3 4 и 5 в пятибальной шкале и мы бы с гарантией их не получили, если бы поставили пятибальную систему"
   ]
  },
  {
   "cell_type": "code",
   "execution_count": 51,
   "metadata": {},
   "outputs": [],
   "source": [
    "#\n",
    "# тут бы пошабить распределение до более адекватного\n",
    "# чтобы показать улучшающуюся чиселку и восклицание \"нихуя мы шарим\""
   ]
  },
  {
   "cell_type": "markdown",
   "metadata": {},
   "source": [
    "# Encoding"
   ]
  },
  {
   "cell_type": "code",
   "execution_count": 53,
   "metadata": {},
   "outputs": [
    {
     "name": "stdout",
     "output_type": "stream",
     "text": [
      "OUTPUT:self_age 53.0\n",
      "OUTPUT:self_time 2.0\n",
      "OUTPUT:person_age 56.0\n",
      "OUTPUT:person_tel 2.0\n",
      "OUTPUT:person_auto 0.0\n",
      "OUTPUT:person_hair 0.0\n",
      "OUTPUT:person_time 7.0\n",
      "OUTPUT:person_work 2.0\n",
      "OUTPUT:self_gender 1.0\n",
      "OUTPUT:person_hobby 0.0\n",
      "OUTPUT:person_music 4.0\n",
      "OUTPUT:person_sport 0.0\n",
      "OUTPUT:person_gender 1.0\n",
      "OUTPUT:person_height 3.0\n",
      "OUTPUT:person_mental 0.0\n",
      "OUTPUT:person_social 2.0\n",
      "OUTPUT:person_animals 1.0\n",
      "OUTPUT:person_psycho_1 1.0\n",
      "OUTPUT:person_psycho_2 0.0\n",
      "OUTPUT:person_psycho_3 0.0\n",
      "OUTPUT:person_psycho_4 0.0\n",
      "OUTPUT:person_psycho_5 0.0\n",
      "OUTPUT:person_psycho_6 0.0\n",
      "OUTPUT:person_psycho_7 0.0\n",
      "OUTPUT:person_psycho_8 1.0\n",
      "OUTPUT:person_psycho_9 1.0\n",
      "OUTPUT:person_closeness 4.0\n",
      "OUTPUT:person_education 1.0\n",
      "OUTPUT:self_gift_desc_1 0.0\n",
      "OUTPUT:self_gift_desc_2 0.0\n",
      "OUTPUT:self_gift_desc_3 1.0\n",
      "OUTPUT:self_gift_desc_4 1.0\n",
      "OUTPUT:self_gift_desc_5 0.0\n",
      "OUTPUT:self_gift_desc_6 2.0\n",
      "OUTPUT:self_gift_desc_7 1.0\n",
      "OUTPUT:self_gift_desc_8 2.0\n",
      "OUTPUT:self_gift_desc_9 1.0\n",
      "OUTPUT:self_gift_mark_2 100.0\n",
      "OUTPUT:person_chronotype 0.0\n",
      "OUTPUT:person_hair_color 0.0\n",
      "OUTPUT:self_gift_desc_10 1.0\n",
      "OUTPUT:self_gift_desc_11 1.0\n",
      "OUTPUT:self_gift_desc_12 1.0\n",
      "OUTPUT:self_gift_desc_13 2.0\n",
      "OUTPUT:self_wish_to_give 1.0\n",
      "OUTPUT:person_temperament 3.0\n",
      "OUTPUT:person_animals_like 0.0\n"
     ]
    }
   ],
   "source": [
    "# useless at first view\n",
    "additional_drops = ['OUTPUT:self_gift_mark', 'OUTPUT:self_variants', 'OUTPUT:self_gift_times', 'OUTPUT:self_gift_usage',\n",
    "                    'OUTPUT:self_gift_bad_usage']\n",
    "data = data.drop(additional_drops, axis=1)\n",
    "\n",
    "\n",
    "for key, value in data.iloc[0].iteritems():\n",
    "    print (key, value)"
   ]
  },
  {
   "cell_type": "code",
   "execution_count": 62,
   "metadata": {},
   "outputs": [],
   "source": [
    "from sklearn.preprocessing import OneHotEncoder, LabelEncoder, LabelBinarizer\n",
    "\n",
    "Y = data['OUTPUT:self_gift_mark_2']\n",
    "X = data.drop('OUTPUT:self_gift_mark_2', axis=1) \n",
    "\n",
    "leave = ['OUTPUT:person_age', 'OUTPUT:self_age']\n",
    "to_onehot = X.drop(['OUTPUT:person_age', 'OUTPUT:self_age'], axis=1).columns.values\n",
    "\n",
    "onehotencoded = pd.get_dummies(X[to_onehotencode])\n",
    "\n",
    "to_binarize = []\n",
    "\n",
    "def binarize_column(data , column):\n",
    "    un = data[column].unique()\n",
    "    un_dict = {v:k for k, v in enumerate(un)}\n",
    "    data[column] = data[column].apply(lambda x: un_dict[x])\n",
    "   \n",
    "def binarize_set(data):\n",
    "    for col in data.columns:\n",
    "        binarize_column(data, col)\n",
    "    \n",
    "binarized = data[to_binarize].copy()\n",
    "binarize_set(binarized)"
   ]
  },
  {
   "cell_type": "code",
   "execution_count": 65,
   "metadata": {},
   "outputs": [
    {
     "data": {
      "text/plain": [
       "True"
      ]
     },
     "execution_count": 65,
     "metadata": {},
     "output_type": "execute_result"
    }
   ],
   "source": [
    "len(to_onehot) + len(leave) == len(X.columns)"
   ]
  },
  {
   "cell_type": "code",
   "execution_count": 66,
   "metadata": {
    "collapsed": true
   },
   "outputs": [],
   "source": [
    "X_encoded = pd.concat([onehotencoded, X[leave]], axis=1)"
   ]
  },
  {
   "cell_type": "markdown",
   "metadata": {},
   "source": [
    "# Missing values"
   ]
  },
  {
   "cell_type": "code",
   "execution_count": 67,
   "metadata": {
    "collapsed": true
   },
   "outputs": [],
   "source": [
    "for col in X_encoded.columns:\n",
    "    nan_ = sum(X_encoded[col].isnull())\n",
    "    if nan_ > 0:\n",
    "        print (col, nan_/float(len(X_encoded)))"
   ]
  },
  {
   "cell_type": "markdown",
   "metadata": {},
   "source": [
    "No missing values. Pretty situation."
   ]
  },
  {
   "cell_type": "markdown",
   "metadata": {},
   "source": [
    "First approach. Just encoded values and random forest."
   ]
  },
  {
   "cell_type": "code",
   "execution_count": 71,
   "metadata": {
    "collapsed": true
   },
   "outputs": [],
   "source": [
    "from sklearn.model_selection import GridSearchCV\n",
    "\n",
    "def score_params(*data, param_grid):\n",
    "    X, Y = data\n",
    "    rfr=RandomForestRegressor(random_state=42)\n",
    "\n",
    "    \n",
    "\n",
    "    CV_rfc = GridSearchCV(estimator=rfr, param_grid=param_grid, cv= 10)\n",
    "    CV_rfc.fit(X, Y)\n",
    "\n",
    "    print (CV_rfc.best_params_)\n",
    "    rfr=RandomForestRegressor(random_state=42)\n",
    "    rfr.set_params(**CV_rfc.best_params_)\n",
    "    mean, std = perform_n_cv(rfr, X, Y, cv_count=10, scoring=make_scorer(mean_squared_error), iterations=10)\n",
    "    print (mean, '+-' ,std)\n",
    "    \n",
    "def perform_n_cv(clf, x, y, cv_count, scoring, iterations):\n",
    "    cv_accumulator = []\n",
    "    for i in range(iterations):\n",
    "        cv = cross_val_score(clf, x, y, cv=cv_count, scoring=scoring)\n",
    "        cv_accumulator.append([np.mean(np.sqrt(cv)), np.std(np.sqrt(cv))])\n",
    "        \n",
    "    return np.mean(np.array(cv_accumulator)[:, 0]), np.mean(np.array(cv_accumulator)[:, 1])"
   ]
  },
  {
   "cell_type": "code",
   "execution_count": 72,
   "metadata": {},
   "outputs": [
    {
     "name": "stdout",
     "output_type": "stream",
     "text": [
      "{'max_depth': 2, 'n_estimators': 25}\n",
      "23.846835097847883 +- 3.473360060146124\n"
     ]
    }
   ],
   "source": [
    "from sklearn.ensemble import RandomForestRegressor\n",
    "from sklearn.cross_validation import cross_val_score\n",
    "from sklearn.metrics import mean_squared_error, make_scorer\n",
    "import numpy as np\n",
    "\n",
    "score_params(X_encoded, Y,\n",
    "             param_grid = {'n_estimators': [15, 20, 25, 30, 40],\n",
    "                           'max_depth' : [1, 2, 3, 4, 5, None]})"
   ]
  },
  {
   "cell_type": "code",
   "execution_count": 74,
   "metadata": {},
   "outputs": [
    {
     "data": {
      "text/plain": [
       "(array([ 0,  1,  2,  3,  4,  5,  6,  7,  8,  9, 10, 11, 12, 13, 14, 15, 16,\n",
       "        17, 18, 19, 20, 21, 22, 23, 24, 25, 26, 27, 28, 29, 30, 31, 32, 33,\n",
       "        34, 35, 36, 37, 38, 39, 40, 41, 42, 43, 44, 45]),\n",
       " <a list of 46 Text xticklabel objects>)"
      ]
     },
     "execution_count": 74,
     "metadata": {},
     "output_type": "execute_result"
    },
    {
     "data": {
      "image/png": "[encoded data removed]",
      "text/plain": [
       "<Figure size 432x288 with 1 Axes>"
      ]
     },
     "metadata": {},
     "output_type": "display_data"
    }
   ],
   "source": [
    "# feature importance JFY\n",
    "clf = RandomForestRegressor(random_state=42, max_depth=2, n_estimators=25)\n",
    "clf.fit(X_encoded, Y)\n",
    "g= sns.barplot(x='feature', y='importance', data=pd.DataFrame(list(zip(clf.feature_importances_, X_encoded.columns)), columns=['importance', 'feature']))\n",
    "plt.xticks(rotation=90)"
   ]
  }
 ],
 "metadata": {
  "kernelspec": {
   "display_name": "Python 3",
   "language": "python",
   "name": "python3"
  },
  "language_info": {
   "codemirror_mode": {
    "name": "ipython",
    "version": 3
   },
   "file_extension": ".py",
   "mimetype": "text/x-python",
   "name": "python",
   "nbconvert_exporter": "python",
   "pygments_lexer": "ipython3",
   "version": "3.6.1"
  }
 },
 "nbformat": 4,
 "nbformat_minor": 2
}
