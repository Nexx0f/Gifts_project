{
 "cells": [
  {
   "cell_type": "code",
   "execution_count": 1,
   "metadata": {
    "collapsed": true
   },
   "outputs": [],
   "source": [
    "import numpy as np\n",
    "import pandas as pd\n",
    "import seaborn as sns\n",
    "import matplotlib.pyplot as plt\n",
    "from scipy import stats\n",
    "%matplotlib inline  "
   ]
  },
  {
   "cell_type": "code",
   "execution_count": 4,
   "metadata": {
    "collapsed": true
   },
   "outputs": [],
   "source": [
    "data = pd.read_csv('./gifts-data.tsv', delimiter='\\t')\n",
    "data = data.drop([i for i in range (1, len(data), 2)], axis=0)"
   ]
  },
  {
   "cell_type": "code",
   "execution_count": 103,
   "metadata": {},
   "outputs": [
    {
     "data": {
      "text/plain": [
       "array(['корзинка для цветов', 'парфюм, косметика',\n",
       "       'декоративная подушка с надписью.', 'свитер легкий',\n",
       "       'блонот под заказ', 'косметика по уходу за лицом',\n",
       "       'духи шанель номер 5', 'статуэтка', 'кухонные весы', 'зонтик',\n",
       "       'альбом с фотографиями', 'игровые наушники',\n",
       "       'принадлежности для ванны', 'зимняя шуба', 'собака',\n",
       "       'лошадиный дилдо (нет серьезно, не шучу)', 'комнатные тапки',\n",
       "       'книга \"дачный дом...\"', 'самодельное пирожное',\n",
       "       'метакса 12 звезд'], dtype=object)"
      ]
     },
     "execution_count": 103,
     "metadata": {},
     "output_type": "execute_result"
    }
   ],
   "source": [
    "t = 340\n",
    "data['OUTPUT:self_gift_name'].str.lower().str.replace('-', '').str.strip().unique()[t:t+20]"
   ]
  },
  {
   "cell_type": "code",
   "execution_count": 56,
   "metadata": {
    "collapsed": true
   },
   "outputs": [],
   "source": [
    "# drop 'джіпіес' 'эестетический' 'подарок' 'comfort' 'подарок от чистого сердца,сделанный своими руками'\n",
    "mapping = {'смартфон': 'телефон',\n",
    "           'колье':    'украшение',\n",
    "           'часы casio': 'часы',\n",
    "           'несколько шоколадок, его любимое печенье': 'шоколад, печенье',\n",
    "           'францая духи названия не помню':'духи',\n",
    "           'духи hugo boss':'духи',\n",
    "           'духи hugo boss deep red':'духи',\n",
    "            'часы наручные':'часы',\n",
    "             'подарочная карта в магазин рив гош':'подарочная карта',\n",
    "             'браслет':'украшение',\n",
    "             'ручуа':'ручка',\n",
    "             'картина пейзаж':'картина',\n",
    "             'мобильный телефон bq stanford и парфюм': 'телефон',\n",
    "             'это был планшет, сделанный на заказ.': 'планшет',\n",
    "             'айфон': 'телефон',\n",
    "              'парфюм ': 'духи',\n",
    "              'ювелирное украшение': 'украшение',\n",
    "              'парфюм': 'духи',\n",
    "              'цепочка с кулоном': 'украшение',\n",
    "              'сертификат в магазин косметики': 'подарочная карта',\n",
    "              'это были чехол на паспорт, майка с рисунком волка, рюкзак': 'чехол на паспорт',\n",
    "          'macbook pro': 'ноутбук',\n",
    "           'маленькая мягкая игрушка': 'мягкая игрушка',\n",
    "            'картина с его любимым автомобилем, по его фотографии, нарисованная мной': 'картина',\n",
    "            'часы мужские дизель': 'часы',\n",
    "            'sony xperia z': 'телефон',\n",
    "            'оригинальная футболка fila': 'футболка',\n",
    "            'смартчаси': 'часы',\n",
    "            '2 теплых свитера ванс': 'свитер',\n",
    "            'смарт часы': 'часы',\n",
    "            'bluetooth наушник': 'наушники',\n",
    "             'драгоценное украшение': 'украшение',\n",
    "             'самсунг галакси': 'телефон',\n",
    "             'игрушечная бетономешалка на пульте ду) . так как у моего парня бизнес с бетономешалками': 'машинка на пульте управления'\n",
    "            }"
   ]
  },
  {
   "cell_type": "code",
   "execution_count": 102,
   "metadata": {},
   "outputs": [
    {
     "data": {
      "text/plain": [
       "413"
      ]
     },
     "execution_count": 102,
     "metadata": {},
     "output_type": "execute_result"
    }
   ],
   "source": [
    "def map_(x):\n",
    "    if x in mapping.keys():\n",
    "        return mapping[x]\n",
    "    elif 'парфюм' in x or 'духи' in x or 'туалетная' in x:\n",
    "        return 'духи'\n",
    "    elif 'планшет' in x:\n",
    "        return 'планшет'\n",
    "    elif 'ноутбук' in x or 'нетбук' in x or 'тлефнр' in x:\n",
    "        return 'ноутбук'\n",
    "    elif 'украшение' in x or 'браслет' in x or 'кулон' in x or 'цепоч' in x \\\n",
    "        or 'подвеск' in x or 'золот' in x or 'серебр' in x or 'колечко' in x:\n",
    "        return 'украшение'\n",
    "    elif 'часы' in x or 'watch' in x:\n",
    "        return 'часы'\n",
    "    elif 'запонк' in x:\n",
    "        return 'запонки'\n",
    "    elif 'телефон' in x or 'смартфон' in x or 'phone' in x \\\n",
    "         or 'самсунг' in x or 'samsung' in x or 'xiaomi' in x:\n",
    "        return 'телефон'\n",
    "    elif 'мягк' in x or 'медв' in x:\n",
    "        return 'мягкая игрушка'\n",
    "    elif 'белье' in x:\n",
    "        return 'белье'\n",
    "    elif 'удочка' in x or 'спиннинг' in x or 'удилище' in x or 'спининг' in x:\n",
    "        return 'удочка'\n",
    "    elif 'игра' in x:\n",
    "        return 'игра'\n",
    "    elif 'наушник' in x:\n",
    "        return 'наушники'\n",
    "    elif 'крем' in x or 'космет' in x:\n",
    "        return 'уходовая косметика'\n",
    "    elif 'delongi' in x:\n",
    "        return 'кофемашина'\n",
    "    elif 'банк' in x:\n",
    "        return 'павербанк'\n",
    "    elif 'портрет' in x:\n",
    "        return 'картина'\n",
    "    elif 'колонк' in x:\n",
    "        return 'колонка'\n",
    "    elif 'котенок' in x or 'катенок' in x or 'кошка' in x or 'котёнок' in x:\n",
    "        return 'кошка'\n",
    "    else:\n",
    "        return x\n",
    "len(data['OUTPUT:self_gift_name'].str.lower().str.replace('-', '').str.strip().apply(map_).unique())"
   ]
  },
  {
   "cell_type": "code",
   "execution_count": null,
   "metadata": {
    "collapsed": true
   },
   "outputs": [],
   "source": []
  }
 ],
 "metadata": {
  "kernelspec": {
   "display_name": "Python 3",
   "language": "python",
   "name": "python3"
  },
  "language_info": {
   "codemirror_mode": {
    "name": "ipython",
    "version": 3
   },
   "file_extension": ".py",
   "mimetype": "text/x-python",
   "name": "python",
   "nbconvert_exporter": "python",
   "pygments_lexer": "ipython3",
   "version": "3.6.1"
  }
 },
 "nbformat": 4,
 "nbformat_minor": 2
}
